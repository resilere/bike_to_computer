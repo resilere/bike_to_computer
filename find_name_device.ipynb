{
 "cells": [
  {
   "cell_type": "code",
   "execution_count": null,
   "metadata": {},
   "outputs": [],
   "source": [
    "from bleak import BleakClient"
   ]
  },
  {
   "cell_type": "code",
   "execution_count": null,
   "metadata": {},
   "outputs": [],
   "source": [
    "!pip install pynput"
   ]
  },
  {
   "cell_type": "code",
   "execution_count": null,
   "metadata": {},
   "outputs": [],
   "source": [
    "from pynput.keyboard import Controller, Key"
   ]
  },
  {
   "cell_type": "code",
   "execution_count": null,
   "metadata": {},
   "outputs": [],
   "source": [
    "import asyncio\n",
    "from bleak import BleakScanner"
   ]
  },
  {
   "cell_type": "code",
   "execution_count": null,
   "metadata": {},
   "outputs": [],
   "source": [
    "# Replace with the BLE address of your cadence sensor\n",
    "CADENCE_SENSOR_ADDRESS = \"XX:XX:XX:XX:XX:XX\"\n",
    "CADENCE_CHARACTERISTIC_UUID = \"00002a5b-0000-1000-8000-00805f9b34fb\"\n",
    "\n",
    "# Set up the keyboard controller\n",
    "keyboard = Controller()\n",
    "\n",
    "# Function to process cadence data and simulate keyboard input\n",
    "def handle_cadence_data(data):\n",
    "    # Parse data (example; adjust based on your sensor's format)\n",
    "    cadence_rpm = int.from_bytes(data, byteorder='little')\n",
    "\n",
    "    # Map cadence to game controls\n",
    "    if cadence_rpm < 50:\n",
    "        keyboard.press('a')  # Simulate 'Left' key\n",
    "        keyboard.release('a')\n",
    "    elif cadence_rpm > 90:\n",
    "        keyboard.press('d')  # Simulate 'Right' key\n",
    "        keyboard.release('d')\n",
    "    else:\n",
    "        keyboard.press('w')  # Simulate 'Up' key\n",
    "        keyboard.release('w')\n",
    "\n",
    "# Main BLE connection function\n",
    "async def main():\n",
    "    async with BleakClient(CADENCE_SENSOR_ADDRESS) as client:\n",
    "        print(\"Connected to cadence sensor\")\n",
    "\n",
    "        # Subscribe to the cadence characteristic\n",
    "        await client.start_notify(CADENCE_CHARACTERISTIC_UUID, handle_cadence_data)\n",
    "\n",
    "        # Keep the script running\n",
    "        while True:\n",
    "            await asyncio.sleep(1)\n",
    "\n",
    "# Run the program\n",
    "asyncio.run(main())"
   ]
  },
  {
   "cell_type": "code",
   "execution_count": null,
   "metadata": {},
   "outputs": [],
   "source": [
    "import nest_asyncio"
   ]
  },
  {
   "cell_type": "code",
   "execution_count": null,
   "metadata": {},
   "outputs": [],
   "source": [
    "from bleak import BleakScanner\n",
    "\n",
    "async def scan_devices():\n",
    "    devices = await BleakScanner.discover()\n",
    "    for device in devices:\n",
    "        print(f\"Name: {device.name}, Address: {device.address}\")\n",
    "\n",
    "\n"
   ]
  },
  {
   "cell_type": "code",
   "execution_count": null,
   "metadata": {},
   "outputs": [],
   "source": [
    "# Use 'await' in Jupyter\n",
    "await scan_devices()"
   ]
  },
  {
   "cell_type": "markdown",
   "metadata": {},
   "source": [
    "CS9 C 04556, Address: E5:80:49:E3:FC:92"
   ]
  },
  {
   "cell_type": "markdown",
   "metadata": {},
   "source": [
    "Data from 00002a5b-0000-1000-8000-00805f9b34fb (Handle: 12): CSC Measurement: bytearray(b'\\x02\\x1e8\\xf0V')"
   ]
  },
  {
   "cell_type": "code",
   "execution_count": null,
   "metadata": {},
   "outputs": [],
   "source": [
    "!pip install pyautogui"
   ]
  }
 ],
 "metadata": {
  "kernelspec": {
   "display_name": "base",
   "language": "python",
   "name": "python3"
  },
  "language_info": {
   "codemirror_mode": {
    "name": "ipython",
    "version": 3
   },
   "file_extension": ".py",
   "mimetype": "text/x-python",
   "name": "python",
   "nbconvert_exporter": "python",
   "pygments_lexer": "ipython3",
   "version": "3.9.7"
  },
  "orig_nbformat": 4
 },
 "nbformat": 4,
 "nbformat_minor": 2
}
